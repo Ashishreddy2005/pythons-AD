{
  "nbformat": 4,
  "nbformat_minor": 0,
  "metadata": {
    "colab": {
      "provenance": [],
      "authorship_tag": "ABX9TyOb02yDYOwzoLyTjIEtOE0Q",
      "include_colab_link": true
    },
    "kernelspec": {
      "name": "python3",
      "display_name": "Python 3"
    },
    "language_info": {
      "name": "python"
    }
  },
  "cells": [
    {
      "cell_type": "markdown",
      "metadata": {
        "id": "view-in-github",
        "colab_type": "text"
      },
      "source": [
        "<a href=\"https://colab.research.google.com/github/Ashishreddy2005/pythons-AD/blob/main/day_7.ipynb\" target=\"_parent\"><img src=\"https://colab.research.google.com/assets/colab-badge.svg\" alt=\"Open In Colab\"/></a>"
      ]
    },
    {
      "cell_type": "code",
      "source": [
        "# 1.Load and Explore the Data Load the sales_data.csv file using Pandas. Display the first 5 rows of the dataset. Print basic statistics (mean, median, min, max, etc.) of the numerical columns using .describe().\n",
        "\n",
        "import pandas as pd\n",
        "df = pd.read_csv(\"Path of the file/Day_7_sales_data.csv\")\n",
        "print(\"First 5 rows :\")\n",
        "df.head(5) # Display the first 5 rows of the dataset\n",
        "\n",
        "print(\"Basic statistics of numerical columns:\")\n",
        "df.describe()\n",
        "\n",
        "# 2.Data Analysis Calculate the total sales for each region. Find the most sold product (based on quantity). Compute the average profit margin for each product. (Profit margin = Profit / Sales * 100)\n",
        "\n",
        "# The total sales for each region\n",
        "df.groupby('Region')['Sales'].sum()\n",
        "\n",
        "# The most sold product (based on quantity).\n",
        "df.groupby('Product')['Quantity'].sum().idxmax()\n",
        "\n",
        "# Compute the average profit margin for each product\n",
        "df['Profit Margin'] = (df['Profit'] / df['Sales']) * 100\n",
        "df.groupby('Product')['Profit Margin'].mean()"
      ],
      "metadata": {
        "id": "iLpPbXQ5yOih"
      },
      "execution_count": null,
      "outputs": []
    }
  ]
}