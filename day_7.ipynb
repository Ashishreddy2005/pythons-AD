{
  "nbformat": 4,
  "nbformat_minor": 0,
  "metadata": {
    "colab": {
      "provenance": [],
      "authorship_tag": "ABX9TyN5ajfnmmf5UVYg5GyPfAPl",
      "include_colab_link": true
    },
    "kernelspec": {
      "name": "python3",
      "display_name": "Python 3"
    },
    "language_info": {
      "name": "python"
    }
  },
  "cells": [
    {
      "cell_type": "markdown",
      "metadata": {
        "id": "view-in-github",
        "colab_type": "text"
      },
      "source": [
        "<a href=\"https://colab.research.google.com/github/Ashishreddy2005/pythons-AD/blob/main/day_7.ipynb\" target=\"_parent\"><img src=\"https://colab.research.google.com/assets/colab-badge.svg\" alt=\"Open In Colab\"/></a>"
      ]
    },
    {
      "cell_type": "code",
      "source": [
        "\"\"\"\n",
        "Data Filtering\n",
        "\n",
        "Extract all rows where sales are greater than 1000.\n",
        "Find all sales records for a specific region (e.g., \"East\").\n",
        "\n",
        "\"\"\"\n",
        "\n",
        "import pandas as pd\n",
        "data = pd.read_csv(\"C:/Users/ADMIN/Downloads/Day_8_sales_data.csv\")\n",
        "sales_above_1000 = data[data['Sales'] > 1000]\n",
        "print(\"Rows where sales are greater than 1000:\")\n",
        "print(sales_above_1000)\n",
        "region_sales = data[data['Region'] == 'East']\n",
        "print(\"\\nSales records for the 'East' region:\")\n",
        "print(region_sales)\n",
        "\n",
        "\"\"\"\n",
        "Data Processing\n",
        "\n",
        "Add a new column, Profit_Per_Unit, calculated as Profit / Quantity.\n",
        "Create another column, High_Sales, which labels rows as Yes if Sales > 1000, else No.\n",
        "\n",
        "\"\"\"\n",
        "\n",
        "data['Profit_Per_Unit'] = data['Profit'] / data['Quantity']\n",
        "print(\"\\nData with Profit_Per_Unit column:\")\n",
        "print(data.head())\n",
        "data['High_Sales'] = data['Sales'].apply(lambda x: 'Yes' if x > 1000 else 'No')\n",
        "print(\"\\nData with High_Sales column:\")\n",
        "print(data.head())"
      ],
      "metadata": {
        "id": "iLpPbXQ5yOih"
      },
      "execution_count": null,
      "outputs": []
    }
  ]
}