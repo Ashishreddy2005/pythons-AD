{
  "nbformat": 4,
  "nbformat_minor": 0,
  "metadata": {
    "colab": {
      "provenance": [],
      "authorship_tag": "ABX9TyNQDAeVYkpQXNTCcICc0cza",
      "include_colab_link": true
    },
    "kernelspec": {
      "name": "python3",
      "display_name": "Python 3"
    },
    "language_info": {
      "name": "python"
    }
  },
  "cells": [
    {
      "cell_type": "markdown",
      "metadata": {
        "id": "view-in-github",
        "colab_type": "text"
      },
      "source": [
        "<a href=\"https://colab.research.google.com/github/Ashishreddy2005/pythons-AD/blob/main/day_4.ipynb\" target=\"_parent\"><img src=\"https://colab.research.google.com/assets/colab-badge.svg\" alt=\"Open In Colab\"/></a>"
      ]
    },
    {
      "cell_type": "code",
      "source": [
        "#!/usr/bin/env python\n",
        "# coding: utf-8\n",
        "\n",
        "# # Write a Python program to calculate the sum of all even numbers between 1 and a given positive integer n\n",
        "\n",
        "# In[1]:\n",
        "\n",
        "\n",
        "n = int(input(\"Enter a positive integer: \"))\n",
        "result = sum(i for i in range(2, n + 1, 2))\n",
        "print(f\"The sum of all even numbers from 1 to {n} is: {result}\")\n",
        "\n",
        "\n",
        "# In[ ]:"
      ],
      "metadata": {
        "id": "iLpPbXQ5yOih"
      },
      "execution_count": null,
      "outputs": []
    }
  ]
}