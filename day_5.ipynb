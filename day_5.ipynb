{
  "nbformat": 4,
  "nbformat_minor": 0,
  "metadata": {
    "colab": {
      "provenance": [],
      "authorship_tag": "ABX9TyPBlh+M6I/I1EUIAgUYCVXk",
      "include_colab_link": true
    },
    "kernelspec": {
      "name": "python3",
      "display_name": "Python 3"
    },
    "language_info": {
      "name": "python"
    }
  },
  "cells": [
    {
      "cell_type": "markdown",
      "metadata": {
        "id": "view-in-github",
        "colab_type": "text"
      },
      "source": [
        "<a href=\"https://colab.research.google.com/github/Ashishreddy2005/pythons-AD/blob/main/day_5.ipynb\" target=\"_parent\"><img src=\"https://colab.research.google.com/assets/colab-badge.svg\" alt=\"Open In Colab\"/></a>"
      ]
    },
    {
      "cell_type": "code",
      "source": [
        "#!/usr/bin/env python\n",
        "# coding: utf-8\n",
        "\n",
        "# # 1)Write a Python program that performs the following tasks:\n",
        "#\n",
        "# 1. Ask the user to enter a positive integer `n`.\n",
        "# 2. Use a `for` loop to print all numbers from `1` to `n` on separate lines.\n",
        "# 3. Use a `while` loop to calculate the sum of all numbers from `1` to `n` and print the result.\n",
        "\n",
        "# In[4]:\n",
        "\n",
        "\n",
        "n = int(input(\"Enter a positive integer: \"))\n",
        "print(\"Numbers from 1 to\", n, \":\")\n",
        "for i in range(1, n + 1):\n",
        "    print(i)\n",
        "sum_num, i = 0, 1\n",
        "while i <= n:\n",
        "    sum_num += i\n",
        "    i += 1\n",
        "print(\"Sum of numbers from 1 to\", n, \":\", sum_num)\n",
        "\n",
        "\n",
        "# # 2)Write a Python program that includes a user-defined function to perform the following tasks:\n",
        "#\n",
        "# 1. Define a function named calculate_square that takes a single argument `n` and returns the square of `n`.\n",
        "# 2. In the main program, ask the user to input a positive integer.\n",
        "# 3. Call the calculate_square function with the user-provided number and display the result.\n",
        "#\n",
        "#\n",
        "#\n",
        "\n",
        "# In[17]:\n",
        "\n",
        "\n",
        "def calculate_square (n):\n",
        "        return n**2\n",
        "n = int(input(\"Enter a positive integer : \"))\n",
        "res = calculate_square(n)\n",
        "print(f\"The square of {n} is {res}\")\n",
        "\n",
        "\n",
        "# In[ ]:"
      ],
      "metadata": {
        "id": "iLpPbXQ5yOih"
      },
      "execution_count": null,
      "outputs": []
    }
  ]
}