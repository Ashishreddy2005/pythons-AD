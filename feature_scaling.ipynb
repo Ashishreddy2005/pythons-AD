{
  "nbformat": 4,
  "nbformat_minor": 0,
  "metadata": {
    "colab": {
      "provenance": [],
      "authorship_tag": "ABX9TyOxlTW5anBLtTc9SbiRWYUg",
      "include_colab_link": true
    },
    "kernelspec": {
      "name": "python3",
      "display_name": "Python 3"
    },
    "language_info": {
      "name": "python"
    }
  },
  "cells": [
    {
      "cell_type": "markdown",
      "metadata": {
        "id": "view-in-github",
        "colab_type": "text"
      },
      "source": [
        "<a href=\"https://colab.research.google.com/github/Ashishreddy2005/pythons-AD/blob/main/feature_scaling.ipynb\" target=\"_parent\"><img src=\"https://colab.research.google.com/assets/colab-badge.svg\" alt=\"Open In Colab\"/></a>"
      ]
    },
    {
      "source": [
        "import pandas as pd\n",
        "\n",
        "# Dataset with added City column\n",
        "data = {\n",
        "    \"Customer_Id\": [1, 2, 3, 4],\n",
        "    \"Gender\": [\"Male\", \"Female\", \"Feale\", \"Male\"],\n",
        "    \"Subscription_Status\": [\"Active\", \"Inactive\", \"Active\", \"Inactive\"],\n",
        "    \"City\": [\"New York\", \"Los Angeles\", \"Chicago\", \"Houston\"]  # Added City data\n",
        "}\n",
        "\n",
        "df = pd.DataFrame(data)\n",
        "\n",
        "print(\"Original data with City:\")\n",
        "print(df)\n",
        "\n",
        "# ----- Encoding Gender -----\n",
        "# Replace typo 'Feale' with 'Female'\n",
        "df['Gender'] = df['Gender'].replace('Feale', 'Female')\n",
        "\n",
        "# Custom mapping for Gender encoding\n",
        "gender_mapping = {\"Male\": 1, \"Female\": 0}\n",
        "df['gender_encoded'] = df['Gender'].map(gender_mapping)\n",
        "df['gender_encoded'] = df['gender_encoded'].astype(int)\n",
        "\n",
        "# ----- Encoding City -----\n",
        "# Get unique cities\n",
        "unique_cities = df['City'].unique()\n",
        "\n",
        "# Create new columns for each city and set to 1 if city is present\n",
        "for city in unique_cities:\n",
        "    df[city.replace(\" \", \"_\")] = (df['City'] == city).astype(int)  # Assign 1 if city matches, replace spaces in column names\n",
        "\n",
        "# Display the modified DataFrame\n",
        "print(\"\\nData with encoded gender and City (positive 1 and 0):\")\n",
        "print(df)"
      ],
      "cell_type": "code",
      "metadata": {
        "colab": {
          "base_uri": "https://localhost:8080/"
        },
        "id": "ZS76zblPO2KH",
        "outputId": "252ca273-ae63-40e5-8a22-1beda090f870"
      },
      "execution_count": 9,
      "outputs": [
        {
          "output_type": "stream",
          "name": "stdout",
          "text": [
            "Original data with City:\n",
            "   Customer_Id  Gender Subscription_Status         City\n",
            "0            1    Male              Active     New York\n",
            "1            2  Female            Inactive  Los Angeles\n",
            "2            3   Feale              Active      Chicago\n",
            "3            4    Male            Inactive      Houston\n",
            "\n",
            "Data with encoded gender and City (positive 1 and 0):\n",
            "   Customer_Id  Gender Subscription_Status         City  gender_encoded  \\\n",
            "0            1    Male              Active     New York               1   \n",
            "1            2  Female            Inactive  Los Angeles               0   \n",
            "2            3  Female              Active      Chicago               0   \n",
            "3            4    Male            Inactive      Houston               1   \n",
            "\n",
            "   New_York  Los_Angeles  Chicago  Houston  \n",
            "0         1            0        0        0  \n",
            "1         0            1        0        0  \n",
            "2         0            0        1        0  \n",
            "3         0            0        0        1  \n"
          ]
        }
      ]
    },
    {
      "cell_type": "code",
      "source": [],
      "metadata": {
        "id": "aEmtpC6xO2j-"
      },
      "execution_count": null,
      "outputs": []
    }
  ]
}