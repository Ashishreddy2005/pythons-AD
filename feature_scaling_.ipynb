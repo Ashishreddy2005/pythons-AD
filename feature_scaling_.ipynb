{
  "nbformat": 4,
  "nbformat_minor": 0,
  "metadata": {
    "colab": {
      "provenance": [],
      "authorship_tag": "ABX9TyOy/vpJuteJcz3LWRktRBjs",
      "include_colab_link": true
    },
    "kernelspec": {
      "name": "python3",
      "display_name": "Python 3"
    },
    "language_info": {
      "name": "python"
    }
  },
  "cells": [
    {
      "cell_type": "markdown",
      "metadata": {
        "id": "view-in-github",
        "colab_type": "text"
      },
      "source": [
        "<a href=\"https://colab.research.google.com/github/Ashishreddy2005/pythons-AD/blob/main/feature_scaling_.ipynb\" target=\"_parent\"><img src=\"https://colab.research.google.com/assets/colab-badge.svg\" alt=\"Open In Colab\"/></a>"
      ]
    },
    {
      "cell_type": "code",
      "execution_count": null,
      "metadata": {
        "id": "ZY7C-hhZROvy"
      },
      "outputs": [],
      "source": [
        "import pandas as pd\n",
        "\n",
        "# Dataset with added City column\n",
        "data = {\n",
        "    \"Customer_Id\": [1, 2, 3, 4],\n",
        "    \"Gender\": [\"Male\", \"Female\", \"Feale\", \"Male\"],\n",
        "    \"Subscription_Status\": [\"Active\", \"Inactive\", \"Active\", \"Inactive\"],\n",
        "    \"City\": [\"New York\", \"Los Angeles\", \"Chicago\", \"Houston\"]  # Added City data\n",
        "}\n",
        "\n",
        "df = pd.DataFrame(data)\n",
        "\n",
        "print(\"Original data with City:\")\n",
        "print(df)\n",
        "\n",
        "# ----- Encoding Gender -----\n",
        "# Replace typo 'Feale' with 'Female'\n",
        "df['Gender'] = df['Gender'].replace('Feale', 'Female')\n",
        "\n",
        "# Custom mapping for Gender encoding\n",
        "gender_mapping = {\"Male\": 1, \"Female\": 0}\n",
        "df['gender_encoded'] = df['Gender'].map(gender_mapping)\n",
        "df['gender_encoded'] = df['gender_encoded'].astype(int)\n",
        "\n",
        "# ----- Encoding City -----\n",
        "# Get unique cities\n",
        "unique_cities = df['City'].unique()\n",
        "\n",
        "# Create new columns for each city and set to 1 if city is present\n",
        "for city in unique_cities:\n",
        "    df[city.replace(\" \", \"_\")] = (df['City'] == city).astype(int)  # Assign 1 if city matches, replace spaces in column names\n",
        "\n",
        "# ----- Adding and Encoding Fruit Data -----\n",
        "# Add a new column for favorite fruits\n",
        "df['Favorite_Fruit'] = ['Apple', 'Banana', 'Orange', 'Mango']\n",
        "\n",
        "# Get unique fruits\n",
        "unique_fruits = df['Favorite_Fruit'].unique()\n",
        "\n",
        "# Create new columns for each fruit and set to 1 if fruit is present\n",
        "for fruit in unique_fruits:\n",
        "    df[fruit.replace(\" \", \"_\")] = (df['Favorite_Fruit'] == fruit).astype(int)  # Assign 1 if fruit matches, replace spaces in column names\n",
        "\n",
        "# Display the modified DataFrame\n",
        "print(\"\\nData with encoded gender, City, and Favorite_Fruit:\")\n",
        "print(df)"
      ]
    }
  ]
}