{
  "nbformat": 4,
  "nbformat_minor": 0,
  "metadata": {
    "colab": {
      "provenance": [],
      "authorship_tag": "ABX9TyN8vUTLCA+Z+mw+Sy3wsHg6",
      "include_colab_link": true
    },
    "kernelspec": {
      "name": "python3",
      "display_name": "Python 3"
    },
    "language_info": {
      "name": "python"
    }
  },
  "cells": [
    {
      "cell_type": "markdown",
      "metadata": {
        "id": "view-in-github",
        "colab_type": "text"
      },
      "source": [
        "<a href=\"https://colab.research.google.com/github/Ashishreddy2005/pythons-AD/blob/main/Data_Cleaning_Imputation.ipynb\" target=\"_parent\"><img src=\"https://colab.research.google.com/assets/colab-badge.svg\" alt=\"Open In Colab\"/></a>"
      ]
    },
    {
      "cell_type": "code",
      "execution_count": 8,
      "metadata": {
        "colab": {
          "base_uri": "https://localhost:8080/"
        },
        "id": "sFnogWc73T92",
        "outputId": "f525c529-b5c1-4161-f705-0eb5c9497080"
      },
      "outputs": [
        {
          "output_type": "stream",
          "name": "stdout",
          "text": [
            "Original DataFrame:\n",
            "{'square_feet_area': [8500, 9600, nan, 11250, nan, 9550, 14260, nan, 13830, 11500], 'Year_built': [2003, 1976, 2001, nan, 1998, 2000, 1978, 1950, nan, 1947], 'over_all_condition': [5, 8, 6, 7, nan, 7, 8, 6, nan, 7], 'ready_to_move': ['Yes', 'No', 'No', nan, 'No', nan, 'No', 'Yes', nan, 'Yes'], 'Sale_price': [200000, 180000, 215000, 250000, 210000, 190000, 230000, 225000, 220000, 215000]}\n"
          ]
        }
      ],
      "source": [
        "import pandas as pd\n",
        "import numpy as np\n",
        "data= {\n",
        "    'square_feet_area' : [8500,9600, np.nan,11250,np.nan,9550,14260,np.nan,13830,11500],\n",
        "    'Year_built':[2003,1976,2001,np.nan,1998,2000,1978,1950,np.nan,1947],\n",
        "    'over_all_condition': [5,8,6,7,np.nan,7,8,6,np.nan,7],\n",
        "    'ready_to_move':['Yes','No','No',np.nan,'No',np.nan,'No','Yes',np.nan,'Yes'],\n",
        "    'Sale_price':[200000,180000,215000,250000,210000,190000,230000,225000,220000,215000]\n",
        "}\n",
        "df = pd.DataFrame(data)\n",
        "\n",
        "print(\"Original DataFrame:\")\n"
      ]
    },
    {
      "cell_type": "code",
      "source": [
        "print(df)"
      ],
      "metadata": {
        "colab": {
          "base_uri": "https://localhost:8080/"
        },
        "id": "rK3SAKOT5bfF",
        "outputId": "bd6af885-4eca-49ce-f7a1-b375df825c17"
      },
      "execution_count": 7,
      "outputs": [
        {
          "output_type": "stream",
          "name": "stdout",
          "text": [
            "   square_feet_area  Year_built  over_all_condition ready_to_move  Sale_price\n",
            "0            8500.0      2003.0                 5.0           Yes      200000\n",
            "1            9600.0      1976.0                 8.0            No      180000\n",
            "2               NaN      2001.0                 6.0            No      215000\n",
            "3           11250.0         NaN                 7.0           NaN      250000\n",
            "4               NaN      1998.0                 NaN            No      210000\n",
            "5            9550.0      2000.0                 7.0           NaN      190000\n",
            "6           14260.0      1978.0                 8.0            No      230000\n",
            "7               NaN      1950.0                 6.0           Yes      225000\n",
            "8           13830.0         NaN                 NaN           NaN      220000\n",
            "9           11500.0      1947.0                 7.0           Yes      215000\n"
          ]
        }
      ]
    },
    {
      "cell_type": "code",
      "source": [
        "print(df.isnull().sum)\n"
      ],
      "metadata": {
        "colab": {
          "base_uri": "https://localhost:8080/"
        },
        "id": "NLlCmmE-6adP",
        "outputId": "c1dc06fa-d932-47b7-afdd-1719feb7502d"
      },
      "execution_count": 14,
      "outputs": [
        {
          "output_type": "stream",
          "name": "stdout",
          "text": [
            "<bound method DataFrame.sum of    square_feet_area  Year_built  over_all_condition  ready_to_move  Sale_price\n",
            "0             False       False               False          False       False\n",
            "1             False       False               False          False       False\n",
            "2             False       False               False          False       False\n",
            "3             False       False               False          False       False\n",
            "4             False       False               False          False       False\n",
            "5             False       False               False          False       False\n",
            "6             False       False               False          False       False\n",
            "7             False       False               False          False       False\n",
            "8             False       False               False          False       False\n",
            "9             False       False               False          False       False>\n"
          ]
        }
      ]
    },
    {
      "cell_type": "code",
      "source": [
        "df['square_feet_area'].fillna(df['square_feet_area'].mean(),inplace=True)\n",
        "df['Year_built'].fillna(df['Year_built'].mean(),inplace=True)\n",
        "df['over_all_condition'].fillna(df['over_all_condition'].mean(),inplace=True)\n",
        "df['ready_to_move'].fillna(method='ffill',inplace=True)"
      ],
      "metadata": {
        "colab": {
          "base_uri": "https://localhost:8080/"
        },
        "id": "53KGnwXO8BMN",
        "outputId": "cad7931d-2f3e-4bcb-f5d2-30bd3d30a59d"
      },
      "execution_count": 12,
      "outputs": [
        {
          "output_type": "stream",
          "name": "stderr",
          "text": [
            "<ipython-input-12-af6de6514fa3>:1: FutureWarning: A value is trying to be set on a copy of a DataFrame or Series through chained assignment using an inplace method.\n",
            "The behavior will change in pandas 3.0. This inplace method will never work because the intermediate object on which we are setting values always behaves as a copy.\n",
            "\n",
            "For example, when doing 'df[col].method(value, inplace=True)', try using 'df.method({col: value}, inplace=True)' or df[col] = df[col].method(value) instead, to perform the operation inplace on the original object.\n",
            "\n",
            "\n",
            "  df['square_feet_area'].fillna(df['square_feet_area'].mean(),inplace=True)\n",
            "<ipython-input-12-af6de6514fa3>:2: FutureWarning: A value is trying to be set on a copy of a DataFrame or Series through chained assignment using an inplace method.\n",
            "The behavior will change in pandas 3.0. This inplace method will never work because the intermediate object on which we are setting values always behaves as a copy.\n",
            "\n",
            "For example, when doing 'df[col].method(value, inplace=True)', try using 'df.method({col: value}, inplace=True)' or df[col] = df[col].method(value) instead, to perform the operation inplace on the original object.\n",
            "\n",
            "\n",
            "  df['Year_built'].fillna(df['Year_built'].mean(),inplace=True)\n",
            "<ipython-input-12-af6de6514fa3>:3: FutureWarning: A value is trying to be set on a copy of a DataFrame or Series through chained assignment using an inplace method.\n",
            "The behavior will change in pandas 3.0. This inplace method will never work because the intermediate object on which we are setting values always behaves as a copy.\n",
            "\n",
            "For example, when doing 'df[col].method(value, inplace=True)', try using 'df.method({col: value}, inplace=True)' or df[col] = df[col].method(value) instead, to perform the operation inplace on the original object.\n",
            "\n",
            "\n",
            "  df['over_all_condition'].fillna(df['over_all_condition'].mean(),inplace=True)\n",
            "<ipython-input-12-af6de6514fa3>:4: FutureWarning: Series.fillna with 'method' is deprecated and will raise in a future version. Use obj.ffill() or obj.bfill() instead.\n",
            "  df['ready_to_move'].fillna(method='ffill',inplace=True)\n"
          ]
        }
      ]
    },
    {
      "cell_type": "code",
      "source": [],
      "metadata": {
        "id": "wx8UGhn48NXn"
      },
      "execution_count": null,
      "outputs": []
    }
  ]
}