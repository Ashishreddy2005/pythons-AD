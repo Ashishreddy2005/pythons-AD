{
  "nbformat": 4,
  "nbformat_minor": 0,
  "metadata": {
    "colab": {
      "provenance": [],
      "authorship_tag": "ABX9TyOyLhvDFOo84OHmWpvMm7V3",
      "include_colab_link": true
    },
    "kernelspec": {
      "name": "python3",
      "display_name": "Python 3"
    },
    "language_info": {
      "name": "python"
    }
  },
  "cells": [
    {
      "cell_type": "markdown",
      "metadata": {
        "id": "view-in-github",
        "colab_type": "text"
      },
      "source": [
        "<a href=\"https://colab.research.google.com/github/Ashishreddy2005/pythons-AD/blob/main/day_2.ipynb\" target=\"_parent\"><img src=\"https://colab.research.google.com/assets/colab-badge.svg\" alt=\"Open In Colab\"/></a>"
      ]
    },
    {
      "cell_type": "code",
      "execution_count": 1,
      "metadata": {
        "colab": {
          "base_uri": "https://localhost:8080/"
        },
        "id": "_N0xyTX1uUT0",
        "outputId": "bcda0ec8-0266-4ad5-b5f7-46195b6c1adf"
      },
      "outputs": [
        {
          "output_type": "stream",
          "name": "stdout",
          "text": [
            "90 <class 'int'>\n",
            "19.9 <class 'float'>\n",
            "Hello everyone <class 'str'>\n",
            "True <class 'bool'>\n"
          ]
        }
      ],
      "source": [
        "\n",
        "# # Write a program in Jupyter Notebook to declare variables of different data types (integer, float, string, and boolean). Print each variable and its type.\n",
        "\n",
        "# In[2]:\n",
        "\n",
        "\n",
        "a = 90                           #Integer#!/usr/bin/env python\n",
        "# coding: utf-8\n",
        "\n",
        "# # Create a List, tuple and Dictionary with 5 elements in it and how to access few elements based on the index. Try  with different examples\n",
        "\n",
        "# In[10]:\n",
        "\n",
        "\n",
        "# List\n",
        "list1 = [9, 18, 90, 5, 40, 500]\n",
        "print(\"List:\", list1)\n",
        "print(\"Access element at index 5:\", list1[5])\n",
        "print(\"Slice elements from index 1 to 3:\", list1[1:4])\n",
        "\n",
        "# Tuple\n",
        "tuple1 = ('NTR', 'Allu Arjun', 'Ram Charan', 'Vijay', 'Karthi')\n",
        "print(\"\\nTuple:\", tuple1)\n",
        "print(\"Access element at index 0:\", tuple1[0])\n",
        "print(\"Slice elements from index 0 to 4:\", tuple1[0:5])\n",
        "\n",
        "# Dictionary\n",
        "dict1 = {'a': 1, 'b': 2, 'c': 3, 'd': 4, 'e': 5}\n",
        "print(\"\\nDictionary:\", dict1)\n",
        "print(\"Access value for key 'c':\", dict1['c'])\n",
        "print(\"Access value for key 'e':\", dict1['e'])\n",
        "\n",
        "\n",
        "# In[ ]:\n",
        "b = 19.9                         #Float\n",
        "c = \"Hello everyone\"             #String\n",
        "d = True                         #Boolean\n",
        "print(a,type(a))\n",
        "print(b,type(b))\n",
        "print(c,type(c))\n",
        "print(d,type(d))\n",
        "\n",
        "\n",
        "# In[ ]:"
      ]
    }
  ]
}